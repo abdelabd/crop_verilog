{
 "cells": [
  {
   "cell_type": "code",
   "execution_count": 1,
   "metadata": {},
   "outputs": [],
   "source": [
    "import os \n",
    "import numpy as np\n",
    "import matplotlib.pyplot as plt"
   ]
  },
  {
   "cell_type": "markdown",
   "metadata": {},
   "source": [
    "Globals"
   ]
  },
  {
   "cell_type": "code",
   "execution_count": 2,
   "metadata": {},
   "outputs": [
    {
     "name": "stdout",
     "output_type": "stream",
     "text": [
      "FP_TOTAL: 16\n",
      "FP_INT: 15\n",
      "FP_FRAC: 0\n"
     ]
    }
   ],
   "source": [
    "NUM_CROPS = 1\n",
    "IN_ROWS = 100\n",
    "IN_COLS = 160\n",
    "OUT_ROWS = 48\n",
    "OUT_COLS = 48\n",
    "Y1 = 10\n",
    "X1 = 10\n",
    "Y2 = Y1 + OUT_ROWS\n",
    "X2 = X1 + OUT_COLS\n",
    "CROP_COORDS_HARD = np.array([Y1, X1, Y2, X2])\n",
    "\n",
    "SMALL_MODEL = False\n",
    "\n",
    "TESTBENCH_TYPE = \"VALUE_EQUALS_INDEX\"\n",
    "assert(TESTBENCH_TYPE in [\"VALUE_EQUALS_INDEX\"]) # [\"REAL_DATA\", \"VALUE_EQUALS_INDEX\", \"RANDOM\"])\n",
    "if TESTBENCH_TYPE==\"VALUE_EQUALS_INDEX\":\n",
    "    FP_FRAC = 0 # We just want integer values corresponding to the index of each pixel\n",
    "    FP_INT = 15 # int(np.log2(IN_ROWS*IN_COLS)) + 1 \n",
    "    FP_TOTAL = FP_FRAC + FP_INT + 1 # We'll keep it signed for simplicity\n",
    "    STRING_INSERT = \"_INDEX\"\n",
    "    VMAX = IN_ROWS*IN_COLS\n",
    "elif TESTBENCH_TYPE==\"REAL_DATA\":\n",
    "    FP_FRAC = 13\n",
    "    FP_INT = 2\n",
    "    FP_TOTAL = FP_FRAC + FP_INT + 1\n",
    "    STRING_INSERT = \"\"\n",
    "    VMAX = 1\n",
    "elif TESTBENCH_TYPE==\"RANDOM\":\n",
    "    FP_FRAC = 13\n",
    "    FP_INT = 2\n",
    "    FP_TOTAL = FP_FRAC + FP_INT + 1\n",
    "    STRING_INSERT = \"_RANDOM\"\n",
    "    VMAX = 1\n",
    "else: raise NotImplementedError\n",
    "\n",
    "REUSE_FACTOR = 32\n",
    "\n",
    "print(f\"FP_TOTAL: {FP_TOTAL}\")\n",
    "print(f\"FP_INT: {FP_INT}\")\n",
    "print(f\"FP_FRAC: {FP_FRAC}\")"
   ]
  },
  {
   "cell_type": "markdown",
   "metadata": {},
   "source": [
    "Helper functions"
   ]
  },
  {
   "cell_type": "code",
   "execution_count": 3,
   "metadata": {},
   "outputs": [],
   "source": [
    "def float_to_fixed_point(value: float, total_bits: int, fractional_bits: int) -> str:\n",
    "    \"\"\"\n",
    "    Convert a float to a fixed-point binary representation.\n",
    "    \n",
    "    :param value: Float value to convert.\n",
    "    :param total_bits: Total number of bits for the representation.\n",
    "    :param fractional_bits: Number of fractional bits.\n",
    "    :return: Fixed-point binary string.\n",
    "    \"\"\"\n",
    "    scale = 2 ** fractional_bits\n",
    "    fixed_point_value = int(round(value * scale))\n",
    "    \n",
    "    # Handle two's complement representation for negative numbers\n",
    "    if fixed_point_value < 0:\n",
    "        fixed_point_value = (1 << total_bits) + fixed_point_value\n",
    "    \n",
    "    return f\"{fixed_point_value:0{total_bits}b}\"\n",
    "\n",
    "\n",
    "def fixed_point_to_float(binary: str, fractional_bits: int) -> float:\n",
    "    \"\"\"\n",
    "    Convert a fixed-point binary representation to a float.\n",
    "    \n",
    "    :param binary: Fixed-point binary string.\n",
    "    :param fractional_bits: Number of fractional bits.\n",
    "    :return: Float value.\n",
    "    \"\"\"\n",
    "    total_bits = len(binary)\n",
    "    int_value = int(binary, 2)\n",
    "    \n",
    "    # Handle two's complement for negative numbers\n",
    "    if int_value >= (1 << (total_bits - 1)):\n",
    "        int_value -= (1 << total_bits)\n",
    "    \n",
    "    return int_value / (2 ** fractional_bits)"
   ]
  },
  {
   "cell_type": "code",
   "execution_count": 4,
   "metadata": {},
   "outputs": [],
   "source": [
    "fname_suffix = f\"{IN_ROWS}x{IN_COLS}_to_{OUT_ROWS}x{OUT_COLS}x{NUM_CROPS}.bin\"\n",
    "fpath_img = f\"tb_data/img_postcrop_INDEX_{fname_suffix}\"\n",
    "fpath_img_readin = f\"tb_data/img_postcrop_INDEX_READIN_{fname_suffix}\"\n",
    "fpath_vout = f\"tb_data/vout_postcrop_INDEX_{fname_suffix}\"\n",
    "fpath_hlsout = f\"tb_data/hlsout_postcrop_INDEX_{fname_suffix}\""
   ]
  },
  {
   "cell_type": "markdown",
   "metadata": {},
   "source": [
    "# Load input testbench data \n",
    "\n",
    "from binary"
   ]
  },
  {
   "cell_type": "code",
   "execution_count": 5,
   "metadata": {},
   "outputs": [
    {
     "data": {
      "image/png": "[encoded data removed]",
      "text/plain": [
       "<Figure size 1200x600 with 2 Axes>"
      ]
     },
     "metadata": {},
     "output_type": "display_data"
    },
    {
     "name": "stdout",
     "output_type": "stream",
     "text": [
      "x_indeces: [0, 2305]\n"
     ]
    }
   ],
   "source": [
    "img = np.zeros((OUT_ROWS*OUT_COLS), dtype=np.int32)\n",
    "with open(fpath_img, 'rb') as f:\n",
    "    for i, line in enumerate(f.readlines()):\n",
    "\n",
    "        x = str(line)\n",
    "        x = x.replace(\"\\\\r\\\\n\", \"\")\n",
    "        x = x.replace(\"\\\\n\", \"\")\n",
    "        x = x.replace(\"b'\", \"\")\n",
    "        x = x.replace(\"'\", \"\")\n",
    "        val = fixed_point_to_float(x, FP_FRAC)\n",
    "        img[i] = val\n",
    "img = img.reshape((OUT_ROWS, OUT_COLS))\n",
    "\n",
    "dest_idx = 0\n",
    "x_indeces = []\n",
    "img_readin = np.zeros((OUT_ROWS*OUT_COLS), dtype=np.int32)\n",
    "with open(fpath_img_readin, 'rb') as f:\n",
    "    for i, line in enumerate(f.readlines()):\n",
    "\n",
    "        x = str(line)\n",
    "        if \"x\" in x:\n",
    "            x_indeces.append(i)\n",
    "            continue\n",
    "    \n",
    "        x = x.replace(\"\\\\r\\\\n\", \"\")\n",
    "        x = x.replace(\"\\\\n\", \"\")\n",
    "        x = x.replace(\"b'\", \"\")\n",
    "        x = x.replace(\"'\", \"\")\n",
    "        val = fixed_point_to_float(x, FP_FRAC)\n",
    "        img_readin[dest_idx] = val\n",
    "        dest_idx += 1\n",
    "img_readin = img_readin.reshape((OUT_ROWS, OUT_COLS))\n",
    "\n",
    "\n",
    "fig, (ax1, ax2) = plt.subplots(1,2,figsize=(12,6))\n",
    "ax1.imshow(img, cmap='hot')\n",
    "ax1.set_title(\"Input\")\n",
    "ax2.imshow(img_readin, cmap='hot')\n",
    "ax2.set_title(\"Read-in by Verilog module\")\n",
    "plt.show(fig)\n",
    "plt.close(fig)\n",
    "\n",
    "print(f\"x_indeces: {x_indeces}\")"
   ]
  },
  {
   "cell_type": "markdown",
   "metadata": {},
   "source": [
    "Beautiful - so we're reading in the data correctly. "
   ]
  },
  {
   "cell_type": "markdown",
   "metadata": {},
   "source": [
    "# Load output testbench data"
   ]
  },
  {
   "cell_type": "code",
   "execution_count": 6,
   "metadata": {},
   "outputs": [
    {
     "name": "stdout",
     "output_type": "stream",
     "text": [
      "vout: [ 16286.  22627.  11641.   3430. -19929.]\n",
      "hlsout: [ 1257.  5961. 14967. -3218. 15550.]\n"
     ]
    }
   ],
   "source": [
    "vout_float = np.zeros(5)\n",
    "hlsout_float = np.zeros(5)\n",
    "with open(fpath_vout, \"r\") as f:\n",
    "    for i, line in enumerate(f):\n",
    "        vout_float[i] = fixed_point_to_float(line.strip(), FP_FRAC)\n",
    "\n",
    "with open(fpath_hlsout, \"r\") as f:\n",
    "    for i, line in enumerate(f):\n",
    "        hlsout_float[i] = fixed_point_to_float(line.strip(), FP_FRAC)\n",
    "\n",
    "print(f\"vout: {vout_float}\")\n",
    "print(f\"hlsout: {hlsout_float}\")\n"
   ]
  },
  {
   "cell_type": "code",
   "execution_count": null,
   "metadata": {},
   "outputs": [],
   "source": []
  }
 ],
 "metadata": {
  "kernelspec": {
   "display_name": "rheed",
   "language": "python",
   "name": "python3"
  },
  "language_info": {
   "codemirror_mode": {
    "name": "ipython",
    "version": 3
   },
   "file_extension": ".py",
   "mimetype": "text/x-python",
   "name": "python",
   "nbconvert_exporter": "python",
   "pygments_lexer": "ipython3",
   "version": "3.11.9"
  }
 },
 "nbformat": 4,
 "nbformat_minor": 2
}
