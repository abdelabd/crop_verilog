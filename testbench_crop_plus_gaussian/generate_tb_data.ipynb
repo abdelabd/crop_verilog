{
 "cells": [
  {
   "cell_type": "code",
   "execution_count": 2,
   "metadata": {},
   "outputs": [],
   "source": [
    "import os\n",
    "import copy\n",
    "from pathlib import Path\n",
    "import json\n",
    "import numpy as np\n",
    "import matplotlib.pyplot as plt\n",
    "from tqdm import tqdm\n",
    "\n",
    "import h5py\n",
    "from sklearn.preprocessing import StandardScaler\n",
    "from scipy.optimize import least_squares\n",
    "\n",
    "np.random.seed(0)\n"
   ]
  },
  {
   "cell_type": "markdown",
   "metadata": {},
   "source": [
    "Globals"
   ]
  },
  {
   "cell_type": "code",
   "execution_count": 8,
   "metadata": {},
   "outputs": [
    {
     "name": "stdout",
     "output_type": "stream",
     "text": [
      "IMG_COL_BITWIDTH: 9\n",
      "IMG_ROW_BITWIDTH: 8\n",
      "FP_TOTAL: 16\n",
      "FP_INT: 15\n",
      "FP_FRAC: 0\n",
      "MODEL_STRING_INSERT: _SMALL\n",
      "DATA_STRING_INSERT: _INDEX\n"
     ]
    }
   ],
   "source": [
    "IN_ROWS = 100\n",
    "IN_COLS = 160\n",
    "OUT_ROWS = 48\n",
    "OUT_COLS = 48\n",
    "IMG_COL_BITWIDTH = int(np.ceil(np.log2(IN_COLS+1))+1)\n",
    "IMG_ROW_BITWIDTH = int(np.ceil(np.log2(IN_ROWS+1))+1)\n",
    "NUM_CROPS = 1\n",
    "\n",
    "TESTBENCH_TYPE = \"VALUE_EQUALS_INDEX\"\n",
    "assert(TESTBENCH_TYPE in [\"VALUE_EQUALS_INDEX\"]) # [\"REAL_DATA\", \"VALUE_EQUALS_INDEX\", \"RANDOM\"])\n",
    "if TESTBENCH_TYPE==\"VALUE_EQUALS_INDEX\":\n",
    "    FP_FRAC = 0 # We just want integer values corresponding to the index of each pixel\n",
    "    FP_INT = 15 # int(np.log2(IN_ROWS*IN_COLS)) + 1 \n",
    "    FP_TOTAL = FP_FRAC + FP_INT + 1 # We'll keep it signed for simplicity\n",
    "    DATA_STRING_INSERT = \"_INDEX\"\n",
    "    VMAX = IN_ROWS*IN_COLS\n",
    "elif TESTBENCH_TYPE==\"REAL_DATA\":\n",
    "    FP_FRAC = 13\n",
    "    FP_INT = 2\n",
    "    FP_TOTAL = FP_FRAC + FP_INT + 1\n",
    "    DATA_STRING_INSERT = \"\"\n",
    "    VMAX = 1\n",
    "elif TESTBENCH_TYPE==\"RANDOM\":\n",
    "    FP_FRAC = 13\n",
    "    FP_INT = 2\n",
    "    FP_TOTAL = FP_FRAC + FP_INT + 1\n",
    "    DATA_STRING_INSERT = \"_RANDOM\"\n",
    "    VMAX = 1\n",
    "else: raise NotImplementedError\n",
    "\n",
    "SMALL_MODEL = True\n",
    "if SMALL_MODEL:\n",
    "    MODEL_STRING_INSERT = \"_SMALL\"\n",
    "else:\n",
    "    MODEL_STRING_INSERT = \"\"\n",
    "\n",
    "REUSE_FACTOR = 32\n",
    "\n",
    "print(f\"IMG_COL_BITWIDTH: {IMG_COL_BITWIDTH}\")\n",
    "print(f\"IMG_ROW_BITWIDTH: {IMG_ROW_BITWIDTH}\")\n",
    "print(f\"FP_TOTAL: {FP_TOTAL}\")\n",
    "print(f\"FP_INT: {FP_INT}\")\n",
    "print(f\"FP_FRAC: {FP_FRAC}\")\n",
    "print(f\"MODEL_STRING_INSERT: {MODEL_STRING_INSERT}\")\n",
    "print(f\"DATA_STRING_INSERT: {DATA_STRING_INSERT}\")\n",
    "\n",
    "\n",
    "top_level_dir = os.path.join(\"tb_data\", f\"ap_fixed_{FP_TOTAL}_{FP_INT}\", f\"{IN_ROWS}x{IN_COLS}_to_{OUT_ROWS}x{OUT_COLS}x{NUM_CROPS}\")\n",
    "os.makedirs(top_level_dir, exist_ok=True)"
   ]
  },
  {
   "cell_type": "markdown",
   "metadata": {},
   "source": [
    "Helper functions"
   ]
  },
  {
   "cell_type": "code",
   "execution_count": 9,
   "metadata": {},
   "outputs": [],
   "source": [
    "def float_to_fixed_point(value: float, total_bits: int, fractional_bits: int) -> str:\n",
    "    \"\"\"\n",
    "    Convert a float to a fixed-point binary representation.\n",
    "    \n",
    "    :param value: Float value to convert.\n",
    "    :param total_bits: Total number of bits for the representation.\n",
    "    :param fractional_bits: Number of fractional bits.\n",
    "    :return: Fixed-point binary string.\n",
    "    \"\"\"\n",
    "    scale = 2 ** fractional_bits\n",
    "    fixed_point_value = int(round(value * scale))\n",
    "    \n",
    "    # Handle two's complement representation for negative numbers\n",
    "    if fixed_point_value < 0:\n",
    "        fixed_point_value = (1 << total_bits) + fixed_point_value\n",
    "    \n",
    "    return f\"{fixed_point_value:0{total_bits}b}\"\n",
    "\n",
    "\n",
    "def fixed_point_to_float(binary: str, fractional_bits: int) -> float:\n",
    "    \"\"\"\n",
    "    Convert a fixed-point binary representation to a float.\n",
    "    \n",
    "    :param binary: Fixed-point binary string.\n",
    "    :param fractional_bits: Number of fractional bits.\n",
    "    :return: Float value.\n",
    "    \"\"\"\n",
    "    total_bits = len(binary)\n",
    "    int_value = int(binary, 2)\n",
    "    \n",
    "    # Handle two's complement for negative numbers\n",
    "    if int_value >= (1 << (total_bits - 1)):\n",
    "        int_value -= (1 << total_bits)\n",
    "    \n",
    "    return int_value / (2 ** fractional_bits)"
   ]
  },
  {
   "cell_type": "markdown",
   "metadata": {},
   "source": [
    "# 1. Generate, save testbench data"
   ]
  },
  {
   "cell_type": "markdown",
   "metadata": {},
   "source": [
    "First, the un-cropped image"
   ]
  },
  {
   "cell_type": "code",
   "execution_count": 13,
   "metadata": {},
   "outputs": [],
   "source": [
    "img_precrop_float = np.array([i for i in range(IN_ROWS*IN_COLS)]).reshape((IN_ROWS, IN_COLS)).astype(np.float32)\n",
    "fpath_img_precrop = os.path.join(top_level_dir, f\"img_precrop{DATA_STRING_INSERT}.bin\")\n",
    "with open(fpath_img_precrop, \"w\") as f:\n",
    "    for row in img_precrop_float:\n",
    "        for val in row:\n",
    "            val_fixed = float_to_fixed_point(val, FP_TOTAL, FP_FRAC)\n",
    "            f.write(f\"{val_fixed}\\n\")"
   ]
  },
  {
   "cell_type": "markdown",
   "metadata": {},
   "source": [
    "Now, iterate through each possible crop and save such an image"
   ]
  },
  {
   "cell_type": "code",
   "execution_count": null,
   "metadata": {},
   "outputs": [],
   "source": [
    "Y1_range = range(IN_ROWS-OUT_ROWS+1)\n",
    "X1_range = range(IN_COLS-OUT_COLS+1)\n",
    "\n",
    "for Y1 in Y1_range:\n",
    "    Y2 = Y1+OUT_ROWS\n",
    "    for X1 in X1_range:\n",
    "        X2 = X1+OUT_COLS\n",
    "\n",
    "        img_postcrop_float = img_precrop_float[Y1:Y2, X1:X2].astype(np.float32)\n",
    "        fpath_img_postcrop = os.path.join(top_level_dir, f\"Y1_{Y1}\", f\"X1_{X1}\", f\"img_postcrop{DATA_STRING_INSERT}.bin\")\n",
    "        os.makedirs(os.path.dirname(fpath_img_postcrop), exist_ok=True)\n",
    "        with open(fpath_img_postcrop, \"w\") as f:\n",
    "            for row in img_postcrop_float:\n",
    "                for val in row:\n",
    "                    val_fixed = float_to_fixed_point(val, FP_TOTAL, FP_FRAC)\n",
    "                    f.write(f\"{val_fixed}\\n\")\n",
    "\n",
    "fig, (ax1, ax2) = plt.subplots(1,2,figsize=(12,6))\n",
    "ax1.imshow(img_precrop_float, vmin=0, vmax=IN_ROWS*IN_COLS)\n",
    "ax1.set_title(\"Pre-crop\")\n",
    "ax2.imshow(img_postcrop_float, vmin=0, vmax=IN_ROWS*IN_COLS)\n",
    "ax2.set_title(\"Post-crop\")\n",
    "plt.show(fig)\n",
    "plt.close(fig)"
   ]
  },
  {
   "cell_type": "code",
   "execution_count": null,
   "metadata": {},
   "outputs": [],
   "source": []
  }
 ],
 "metadata": {
  "kernelspec": {
   "display_name": "rheed",
   "language": "python",
   "name": "python3"
  },
  "language_info": {
   "codemirror_mode": {
    "name": "ipython",
    "version": 3
   },
   "file_extension": ".py",
   "mimetype": "text/x-python",
   "name": "python",
   "nbconvert_exporter": "python",
   "pygments_lexer": "ipython3",
   "version": "3.11.9"
  }
 },
 "nbformat": 4,
 "nbformat_minor": 2
}
